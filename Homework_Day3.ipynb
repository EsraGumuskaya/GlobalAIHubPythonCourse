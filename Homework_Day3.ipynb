{
 "cells": [
  {
   "cell_type": "code",
   "execution_count": null,
   "metadata": {},
   "outputs": [],
   "source": [
    "#Homework Day3"
   ]
  },
  {
   "cell_type": "code",
   "execution_count": null,
   "metadata": {},
   "outputs": [],
   "source": [
    "username= input(\"Enter Your Username:\")\n",
    "Passwort= input(\"Enter Your Passwort:\")\n",
    "print(username,Passwort)"
   ]
  },
  {
   "cell_type": "code",
   "execution_count": 4,
   "metadata": {},
   "outputs": [
    {
     "name": "stdin",
     "output_type": "stream",
     "text": [
      "Enter Your Username: Esra\n",
      "Enter Your Passwort: GlobalAIHub*\n"
     ]
    },
    {
     "name": "stdout",
     "output_type": "stream",
     "text": [
      "Welcome Esra\n"
     ]
    }
   ],
   "source": [
    "username1=\"Esra\"\n",
    "Passwort1=\"GlobalAIHub*\"\n",
    "\n",
    "username= input(\"Enter Your Username:\")\n",
    "Passwort= input(\"Enter Your Passwort:\")\n",
    "\n",
    "if (username==username1 and Passwort!=Passwort1):\n",
    "    print(\"Wrong Username or Passwort\")\n",
    "elif (username!=username1 and Passwort==Passwort1):\n",
    "    print(\"Wrong Username or Passwort\")\n",
    "elif (username!=username1 and Passwort!=Passwort1):\n",
    "    print(\"Wrong Username or Passwort\")\n",
    "else: \n",
    "    print(\"Welcome\", username)"
   ]
  }
 ],
 "metadata": {
  "kernelspec": {
   "display_name": "Python 3",
   "language": "python",
   "name": "python3"
  },
  "language_info": {
   "codemirror_mode": {
    "name": "ipython",
    "version": 3
   },
   "file_extension": ".py",
   "mimetype": "text/x-python",
   "name": "python",
   "nbconvert_exporter": "python",
   "pygments_lexer": "ipython3",
   "version": "3.7.6"
  }
 },
 "nbformat": 4,
 "nbformat_minor": 4
}
